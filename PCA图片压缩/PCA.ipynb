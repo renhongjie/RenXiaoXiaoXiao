{
 "cells": [
  {
   "cell_type": "code",
   "execution_count": 8,
   "metadata": {},
   "outputs": [],
   "source": [
    "#coding:utf-8\n",
    "import os\n",
    "from numpy import *\n",
    "import numpy as np\n",
    "import cv2\n",
    "import matplotlib.pyplot as plt\n",
    "from pylab import mpl\n",
    "import matplotlib.pyplot as plt # plt 用于显示图片\n",
    "import matplotlib.image as mpimg # mpimg 用于读取图片\n",
    "import numpy as np\n",
    "import scipy.io as scio\n",
    "import os\n",
    "import cv2\n",
    "import sklearn\n",
    "from sklearn.decomposition import PCA\n",
    "from sklearn.decomposition import PCA as skl_PCA\n",
    "import tensorflow as tf"
   ]
  },
  {
   "cell_type": "code",
   "execution_count": 9,
   "metadata": {},
   "outputs": [
    {
     "data": {
      "text/plain": [
       "array([[254, 254, 254, ...,  92, 254, 254],\n",
       "       [254, 254, 254, ..., 254, 254, 254],\n",
       "       [253, 254, 254, ..., 254, 254, 254],\n",
       "       ...,\n",
       "       [254, 254, 254, ...,  31, 180, 254],\n",
       "       [254, 254, 254, ..., 101, 131, 254],\n",
       "       [254, 254, 254, ...,  26,  29,  31]], dtype=uint8)"
      ]
     },
     "execution_count": 9,
     "metadata": {},
     "output_type": "execute_result"
    }
   ],
   "source": [
    "path=\"/Users/ren/Desktop/AR\"\n",
    "train_x=[]\n",
    "train_y=[]\n",
    "test_x=[]\n",
    "test_y=[]\n",
    "pca = PCA(n_components=35)\n",
    "for file in os.listdir(path):\n",
    "    if file[-3:]!=\"bmp\":\n",
    "            continue\n",
    "    no = int(file[4:6])#取同一张人脸的编号\n",
    "    if(no>=3):#取后12张人脸作为训练集\n",
    "        train_tempImg = cv2.imread(path+'/'+file,0)#读入图片\n",
    "        train_tempImg = np.array(train_tempImg)\n",
    "        train_tempImg = train_tempImg.reshape(2000)#将二维图片向量转换为以为特征向量\n",
    "        train_x.append(train_tempImg)\n",
    "        train_y.append(int(file[:3]))#取不同人脸编号作为label值\n",
    "    else:#取前2张人脸作为测试集\n",
    "        test_tempImg = cv2.imread(path+'/'+file,0)\n",
    "        test_tempImg = np.array(test_tempImg)\n",
    "        test_tempImg = test_tempImg.reshape(2000)\n",
    "        test_x.append(test_tempImg)\n",
    "        test_y.append(int(file[:3])) \n",
    "train_x = np.array(train_x)#将列表形式转换为数组形式\n",
    "train_y = np.array(train_y)\n",
    "test_x = np.array(test_x)\n",
    "test_y = np.array(test_y)\n",
    "train_x.reshape(-1,2000)#确保返回形状为[image_nums,size]\n",
    "test_x.reshape(-1,2000)"
   ]
  },
  {
   "cell_type": "code",
   "execution_count": 10,
   "metadata": {},
   "outputs": [],
   "source": [
    "#定义PCA算法               \n",
    "def PCA(data,r):\n",
    "    '''\n",
    "    input\n",
    "    data:降维数据,维度:[dims,image_nums]\n",
    "    r:降维维度\n",
    "\n",
    "    return\n",
    "    final_data:降维后结果,维度:[image_nums,r]\n",
    "    data_mean:平均值,维度:[1,image_nums]\n",
    "    V_r:特征值向量,维度:[dims,r]\n",
    "    '''\n",
    "    data=np.float32(np.mat(data))#将输入数据转换为numpy中的array形式\n",
    "    rows,cols=np.shape(data)#得到行列值\n",
    "    data_mean=np.mean(data,0)#对列求平均值\n",
    "    A=data-np.tile(data_mean,(rows,1))#去除平均值\n",
    "    C=A*A.T #计算得到协方差矩阵\n",
    "    D,V=np.linalg.eig(C)#求协方差矩阵的特征值和特征向量\n",
    "    V_r=V[:,0:r]#按列取前r个特征向量\n",
    "    V_r=A.T*V_r#小矩阵特征向量向大矩阵特征向量过渡\n",
    "    for i in range(r):\n",
    "        V_r[:,i]=V_r[:,i]/np.linalg.norm(V_r[:,i])#特征向量归一化  \n",
    "    final_data=A*V_r#将原数据映射到新的空间上\n",
    "    return final_data,data_mean,V_r"
   ]
  },
  {
   "cell_type": "code",
   "execution_count": 11,
   "metadata": {},
   "outputs": [],
   "source": [
    "#重构方法\n",
    "def re_creat(low_mat,vects,mean_data):\n",
    "    #re_mat[image_nums,dims]\n",
    "    re_mat = low_mat * vects.T  + mean_data\n",
    "    return re_mat"
   ]
  },
  {
   "cell_type": "code",
   "execution_count": 12,
   "metadata": {},
   "outputs": [],
   "source": [
    "#计算重建误差\n",
    "def loss_clc(re_mat,img_mat):\n",
    "    #维度:[dims,image_nums]\n",
    "    re_mat = np.array(re_mat)\n",
    "    img_mat = np.array(img_mat)\n",
    "    t1 = img_mat - re_mat    \n",
    "    t1 = np.multiply(t1,t1)    \n",
    "    t2 = np.sum(t1,axis=0)\n",
    "    t3 = np.mean(t2)#计算分子\n",
    "    #此处因为254*254会超出numpy.multiply的范围，做了除10的操作，后面求loss时乘了回来\n",
    "    s1 = img_mat/10\n",
    "    s1 = np.multiply(s1,s1)   \n",
    "    s2 = np.sum(s1,axis=0)\n",
    "    s3 = np.mean(s2)#计算分母\n",
    "    loss = t3/(s3*100)\n",
    "    print(\"重建误差为：%.5f,保留了 %d %%的信息\"%(loss,(1-loss)*100))\n",
    "    return loss"
   ]
  },
  {
   "cell_type": "code",
   "execution_count": 13,
   "metadata": {},
   "outputs": [],
   "source": [
    "#欧式距离判别器\n",
    "def ed(num_test,num_train,data_test_new,data_train_new,train_label,test_label):\n",
    "    true_num = 0#判别正确的值\n",
    "    for i in range(num_test):#遍历测试集中的图片\n",
    "        testFace = data_test_new[i,:]#取当前图片的特征值\n",
    "        diffMat = data_train_new - np.tile(testFace,(num_train,1))\n",
    "        sqDiffMat = diffMat**2#计算训练数据与测试脸之间的欧式距离\n",
    "        sqDistances = sqDiffMat.sum(axis=1)#按行求和\n",
    "        sortedDistIndicies = sqDistances.argsort()#对向量从小到大排序，使用的是索引值,得到一个向量\n",
    "        indexMin = sortedDistIndicies[0]#距离最近的索引\n",
    "        if train_label[indexMin] == test_label[i]:#判别是否预测正确\n",
    "            true_num += 1\n",
    "    return true_num"
   ]
  },
  {
   "cell_type": "code",
   "execution_count": 14,
   "metadata": {},
   "outputs": [],
   "source": [
    "#使用PCA降维+欧氏距离判别\n",
    "def pca_ed(k=200):\n",
    "    print(\"当前降维维度k=%d\"%(k))\n",
    "    #train_imgMat,train_label,test_imgMat,test_label = creat_Mat(path,2000)#创建训练集和测试集\n",
    "    data_train_new,data_mean,V_r=PCA(train_x,k)#用训练集计算特征值，返回训练集降维结果\n",
    "    num_train = data_train_new.shape[0]#训练脸总数\n",
    "    num_test = test_x.shape[0]#测试脸总数\n",
    "    temp_face = test_x - np.tile(data_mean,(num_test,1))#测试集去中心值\n",
    "    data_test_new = temp_face*V_r #得到测试脸在特征向量下的数据\n",
    "    data_test_new = np.array(data_test_new) # 转换为数组形式\n",
    "    data_train_new = np.array(data_train_new)\n",
    "    true_num = ed(num_test,num_train,data_test_new,data_train_new,train_y,test_y)#计算判别正确的数目\n",
    "    re_train = re_creat(data_train_new,V_r,data_mean)#降维后重建\n",
    "    old_mat = train_x.T\n",
    "    new_mat = re_train.T\n",
    "    loss = loss_clc(new_mat,old_mat)#计算重构误差\n",
    "    print(\"当前测试集大小为：%d,判别正确数量为：%d\"%(num_test,true_num))\n",
    "    print(\"当前判别准确率为：%.5f\"%(true_num/num_test))\n",
    "    #绘图时的输出\n",
    "    #print(\"当前降维维度k=%d,当前判别准确率为：%.5f\"%(k,(true_num/num_test)))\n",
    "    return true_num/num_test"
   ]
  },
  {
   "cell_type": "code",
   "execution_count": 15,
   "metadata": {},
   "outputs": [
    {
     "name": "stdout",
     "output_type": "stream",
     "text": [
      "当前降维维度k=200\n",
      "重建误差为：0.00761,保留了 99 %的信息\n",
      "当前测试集大小为：240,判别正确数量为：230\n",
      "当前判别准确率为：0.95833\n"
     ]
    },
    {
     "data": {
      "text/plain": [
       "0.9583333333333334"
      ]
     },
     "execution_count": 15,
     "metadata": {},
     "output_type": "execute_result"
    }
   ],
   "source": [
    "pca_ed()"
   ]
  },
  {
   "cell_type": "code",
   "execution_count": 16,
   "metadata": {},
   "outputs": [
    {
     "name": "stdout",
     "output_type": "stream",
     "text": [
      "当前降维维度k=1\n",
      "重建误差为：0.12507,保留了 87 %的信息\n",
      "当前测试集大小为：240,判别正确数量为：10\n",
      "当前判别准确率为：0.04167\n",
      "当前降维维度k=3\n",
      "重建误差为：0.08068,保留了 91 %的信息\n",
      "当前测试集大小为：240,判别正确数量为：112\n",
      "当前判别准确率为：0.46667\n",
      "当前降维维度k=5\n",
      "重建误差为：0.06390,保留了 93 %的信息\n",
      "当前测试集大小为：240,判别正确数量为：179\n",
      "当前判别准确率为：0.74583\n",
      "当前降维维度k=7\n",
      "重建误差为：0.05553,保留了 94 %的信息\n",
      "当前测试集大小为：240,判别正确数量为：199\n",
      "当前判别准确率为：0.82917\n",
      "当前降维维度k=9\n",
      "重建误差为：0.05048,保留了 94 %的信息\n",
      "当前测试集大小为：240,判别正确数量为：214\n",
      "当前判别准确率为：0.89167\n",
      "当前降维维度k=11\n"
     ]
    },
    {
     "ename": "KeyboardInterrupt",
     "evalue": "",
     "output_type": "error",
     "traceback": [
      "\u001b[0;31m---------------------------------------------------------------------------\u001b[0m",
      "\u001b[0;31mKeyboardInterrupt\u001b[0m                         Traceback (most recent call last)",
      "\u001b[0;32m<ipython-input-16-81c940f065f5>\u001b[0m in \u001b[0;36m<module>\u001b[0;34m\u001b[0m\n\u001b[1;32m      4\u001b[0m \u001b[0;32mfor\u001b[0m \u001b[0mi\u001b[0m \u001b[0;32min\u001b[0m \u001b[0mrange\u001b[0m\u001b[0;34m(\u001b[0m\u001b[0;36m1\u001b[0m\u001b[0;34m,\u001b[0m\u001b[0;36m50\u001b[0m\u001b[0;34m,\u001b[0m\u001b[0;36m2\u001b[0m\u001b[0;34m)\u001b[0m\u001b[0;34m:\u001b[0m\u001b[0;34m\u001b[0m\u001b[0;34m\u001b[0m\u001b[0m\n\u001b[1;32m      5\u001b[0m     \u001b[0mlist_x\u001b[0m\u001b[0;34m.\u001b[0m\u001b[0mappend\u001b[0m\u001b[0;34m(\u001b[0m\u001b[0mi\u001b[0m\u001b[0;34m)\u001b[0m\u001b[0;34m\u001b[0m\u001b[0;34m\u001b[0m\u001b[0m\n\u001b[0;32m----> 6\u001b[0;31m     \u001b[0mlist_y\u001b[0m\u001b[0;34m.\u001b[0m\u001b[0mappend\u001b[0m\u001b[0;34m(\u001b[0m\u001b[0mpca_ed\u001b[0m\u001b[0;34m(\u001b[0m\u001b[0mi\u001b[0m\u001b[0;34m)\u001b[0m\u001b[0;34m)\u001b[0m\u001b[0;34m\u001b[0m\u001b[0;34m\u001b[0m\u001b[0m\n\u001b[0m\u001b[1;32m      7\u001b[0m \u001b[0;32mfor\u001b[0m \u001b[0mi\u001b[0m \u001b[0;32min\u001b[0m \u001b[0mrange\u001b[0m\u001b[0;34m(\u001b[0m\u001b[0;36m52\u001b[0m\u001b[0;34m,\u001b[0m\u001b[0;36m400\u001b[0m\u001b[0;34m,\u001b[0m\u001b[0;36m10\u001b[0m\u001b[0;34m)\u001b[0m\u001b[0;34m:\u001b[0m\u001b[0;34m\u001b[0m\u001b[0;34m\u001b[0m\u001b[0m\n\u001b[1;32m      8\u001b[0m     \u001b[0mlist_x\u001b[0m\u001b[0;34m.\u001b[0m\u001b[0mappend\u001b[0m\u001b[0;34m(\u001b[0m\u001b[0mi\u001b[0m\u001b[0;34m)\u001b[0m\u001b[0;34m\u001b[0m\u001b[0;34m\u001b[0m\u001b[0m\n",
      "\u001b[0;32m<ipython-input-14-3c390316574d>\u001b[0m in \u001b[0;36mpca_ed\u001b[0;34m(k)\u001b[0m\n\u001b[1;32m      3\u001b[0m     \u001b[0mprint\u001b[0m\u001b[0;34m(\u001b[0m\u001b[0;34m\"当前降维维度k=%d\"\u001b[0m\u001b[0;34m%\u001b[0m\u001b[0;34m(\u001b[0m\u001b[0mk\u001b[0m\u001b[0;34m)\u001b[0m\u001b[0;34m)\u001b[0m\u001b[0;34m\u001b[0m\u001b[0;34m\u001b[0m\u001b[0m\n\u001b[1;32m      4\u001b[0m     \u001b[0;31m#train_imgMat,train_label,test_imgMat,test_label = creat_Mat(path,2000)#创建训练集和测试集\u001b[0m\u001b[0;34m\u001b[0m\u001b[0;34m\u001b[0m\u001b[0;34m\u001b[0m\u001b[0m\n\u001b[0;32m----> 5\u001b[0;31m     \u001b[0mdata_train_new\u001b[0m\u001b[0;34m,\u001b[0m\u001b[0mdata_mean\u001b[0m\u001b[0;34m,\u001b[0m\u001b[0mV_r\u001b[0m\u001b[0;34m=\u001b[0m\u001b[0mPCA\u001b[0m\u001b[0;34m(\u001b[0m\u001b[0mtrain_x\u001b[0m\u001b[0;34m,\u001b[0m\u001b[0mk\u001b[0m\u001b[0;34m)\u001b[0m\u001b[0;31m#用训练集计算特征值，返回训练集降维结果\u001b[0m\u001b[0;34m\u001b[0m\u001b[0;34m\u001b[0m\u001b[0m\n\u001b[0m\u001b[1;32m      6\u001b[0m     \u001b[0mnum_train\u001b[0m \u001b[0;34m=\u001b[0m \u001b[0mdata_train_new\u001b[0m\u001b[0;34m.\u001b[0m\u001b[0mshape\u001b[0m\u001b[0;34m[\u001b[0m\u001b[0;36m0\u001b[0m\u001b[0;34m]\u001b[0m\u001b[0;31m#训练脸总数\u001b[0m\u001b[0;34m\u001b[0m\u001b[0;34m\u001b[0m\u001b[0m\n\u001b[1;32m      7\u001b[0m     \u001b[0mnum_test\u001b[0m \u001b[0;34m=\u001b[0m \u001b[0mtest_x\u001b[0m\u001b[0;34m.\u001b[0m\u001b[0mshape\u001b[0m\u001b[0;34m[\u001b[0m\u001b[0;36m0\u001b[0m\u001b[0;34m]\u001b[0m\u001b[0;31m#测试脸总数\u001b[0m\u001b[0;34m\u001b[0m\u001b[0;34m\u001b[0m\u001b[0m\n",
      "\u001b[0;32m<ipython-input-10-cceee9bc29c0>\u001b[0m in \u001b[0;36mPCA\u001b[0;34m(data, r)\u001b[0m\n\u001b[1;32m     15\u001b[0m     \u001b[0mdata_mean\u001b[0m\u001b[0;34m=\u001b[0m\u001b[0mnp\u001b[0m\u001b[0;34m.\u001b[0m\u001b[0mmean\u001b[0m\u001b[0;34m(\u001b[0m\u001b[0mdata\u001b[0m\u001b[0;34m,\u001b[0m\u001b[0;36m0\u001b[0m\u001b[0;34m)\u001b[0m\u001b[0;31m#对列求平均值\u001b[0m\u001b[0;34m\u001b[0m\u001b[0;34m\u001b[0m\u001b[0m\n\u001b[1;32m     16\u001b[0m     \u001b[0mA\u001b[0m\u001b[0;34m=\u001b[0m\u001b[0mdata\u001b[0m\u001b[0;34m-\u001b[0m\u001b[0mnp\u001b[0m\u001b[0;34m.\u001b[0m\u001b[0mtile\u001b[0m\u001b[0;34m(\u001b[0m\u001b[0mdata_mean\u001b[0m\u001b[0;34m,\u001b[0m\u001b[0;34m(\u001b[0m\u001b[0mrows\u001b[0m\u001b[0;34m,\u001b[0m\u001b[0;36m1\u001b[0m\u001b[0;34m)\u001b[0m\u001b[0;34m)\u001b[0m\u001b[0;31m#去除平均值\u001b[0m\u001b[0;34m\u001b[0m\u001b[0;34m\u001b[0m\u001b[0m\n\u001b[0;32m---> 17\u001b[0;31m     \u001b[0mC\u001b[0m\u001b[0;34m=\u001b[0m\u001b[0mA\u001b[0m\u001b[0;34m*\u001b[0m\u001b[0mA\u001b[0m\u001b[0;34m.\u001b[0m\u001b[0mT\u001b[0m \u001b[0;31m#计算得到协方差矩阵\u001b[0m\u001b[0;34m\u001b[0m\u001b[0;34m\u001b[0m\u001b[0m\n\u001b[0m\u001b[1;32m     18\u001b[0m     \u001b[0mD\u001b[0m\u001b[0;34m,\u001b[0m\u001b[0mV\u001b[0m\u001b[0;34m=\u001b[0m\u001b[0mnp\u001b[0m\u001b[0;34m.\u001b[0m\u001b[0mlinalg\u001b[0m\u001b[0;34m.\u001b[0m\u001b[0meig\u001b[0m\u001b[0;34m(\u001b[0m\u001b[0mC\u001b[0m\u001b[0;34m)\u001b[0m\u001b[0;31m#求协方差矩阵的特征值和特征向量\u001b[0m\u001b[0;34m\u001b[0m\u001b[0;34m\u001b[0m\u001b[0m\n\u001b[1;32m     19\u001b[0m     \u001b[0mV_r\u001b[0m\u001b[0;34m=\u001b[0m\u001b[0mV\u001b[0m\u001b[0;34m[\u001b[0m\u001b[0;34m:\u001b[0m\u001b[0;34m,\u001b[0m\u001b[0;36m0\u001b[0m\u001b[0;34m:\u001b[0m\u001b[0mr\u001b[0m\u001b[0;34m]\u001b[0m\u001b[0;31m#按列取前r个特征向量\u001b[0m\u001b[0;34m\u001b[0m\u001b[0;34m\u001b[0m\u001b[0m\n",
      "\u001b[0;32m~/anaconda3/envs/rencaiji/lib/python3.6/site-packages/numpy/matrixlib/defmatrix.py\u001b[0m in \u001b[0;36m__mul__\u001b[0;34m(self, other)\u001b[0m\n\u001b[1;32m    218\u001b[0m         \u001b[0;32mif\u001b[0m \u001b[0misinstance\u001b[0m\u001b[0;34m(\u001b[0m\u001b[0mother\u001b[0m\u001b[0;34m,\u001b[0m \u001b[0;34m(\u001b[0m\u001b[0mN\u001b[0m\u001b[0;34m.\u001b[0m\u001b[0mndarray\u001b[0m\u001b[0;34m,\u001b[0m \u001b[0mlist\u001b[0m\u001b[0;34m,\u001b[0m \u001b[0mtuple\u001b[0m\u001b[0;34m)\u001b[0m\u001b[0;34m)\u001b[0m \u001b[0;34m:\u001b[0m\u001b[0;34m\u001b[0m\u001b[0;34m\u001b[0m\u001b[0m\n\u001b[1;32m    219\u001b[0m             \u001b[0;31m# This promotes 1-D vectors to row vectors\u001b[0m\u001b[0;34m\u001b[0m\u001b[0;34m\u001b[0m\u001b[0;34m\u001b[0m\u001b[0m\n\u001b[0;32m--> 220\u001b[0;31m             \u001b[0;32mreturn\u001b[0m \u001b[0mN\u001b[0m\u001b[0;34m.\u001b[0m\u001b[0mdot\u001b[0m\u001b[0;34m(\u001b[0m\u001b[0mself\u001b[0m\u001b[0;34m,\u001b[0m \u001b[0masmatrix\u001b[0m\u001b[0;34m(\u001b[0m\u001b[0mother\u001b[0m\u001b[0;34m)\u001b[0m\u001b[0;34m)\u001b[0m\u001b[0;34m\u001b[0m\u001b[0;34m\u001b[0m\u001b[0m\n\u001b[0m\u001b[1;32m    221\u001b[0m         \u001b[0;32mif\u001b[0m \u001b[0misscalar\u001b[0m\u001b[0;34m(\u001b[0m\u001b[0mother\u001b[0m\u001b[0;34m)\u001b[0m \u001b[0;32mor\u001b[0m \u001b[0;32mnot\u001b[0m \u001b[0mhasattr\u001b[0m\u001b[0;34m(\u001b[0m\u001b[0mother\u001b[0m\u001b[0;34m,\u001b[0m \u001b[0;34m'__rmul__'\u001b[0m\u001b[0;34m)\u001b[0m \u001b[0;34m:\u001b[0m\u001b[0;34m\u001b[0m\u001b[0;34m\u001b[0m\u001b[0m\n\u001b[1;32m    222\u001b[0m             \u001b[0;32mreturn\u001b[0m \u001b[0mN\u001b[0m\u001b[0;34m.\u001b[0m\u001b[0mdot\u001b[0m\u001b[0;34m(\u001b[0m\u001b[0mself\u001b[0m\u001b[0;34m,\u001b[0m \u001b[0mother\u001b[0m\u001b[0;34m)\u001b[0m\u001b[0;34m\u001b[0m\u001b[0;34m\u001b[0m\u001b[0m\n",
      "\u001b[0;32m<__array_function__ internals>\u001b[0m in \u001b[0;36mdot\u001b[0;34m(*args, **kwargs)\u001b[0m\n",
      "\u001b[0;31mKeyboardInterrupt\u001b[0m: "
     ]
    }
   ],
   "source": [
    "list_x=[]\n",
    "list_y=[]\n",
    "#三个梯队进行测试\n",
    "for i in range(1,50,2):\n",
    "    list_x.append(i)\n",
    "    list_y.append(pca_ed(i))\n",
    "for i in range(52,400,10):\n",
    "    list_x.append(i)\n",
    "    list_y.append(pca_ed(i))\n",
    "for i in range(500,1000,50):\n",
    "    list_x.append(i)\n",
    "    list_y.append(pca_ed(i))"
   ]
  },
  {
   "cell_type": "code",
   "execution_count": null,
   "metadata": {},
   "outputs": [],
   "source": [
    "plt.plot(list_x, list_y, label=\"pca_acc\", linewidth=1.5)\n",
    "plt.xlabel('D')#维度\n",
    "plt.ylabel('acc')#准确率\n",
    "plt.legend()\n",
    "plt.show()"
   ]
  },
  {
   "cell_type": "code",
   "execution_count": null,
   "metadata": {},
   "outputs": [],
   "source": []
  }
 ],
 "metadata": {
  "kernelspec": {
   "display_name": "Python 3",
   "language": "python",
   "name": "python3"
  },
  "language_info": {
   "codemirror_mode": {
    "name": "ipython",
    "version": 3
   },
   "file_extension": ".py",
   "mimetype": "text/x-python",
   "name": "python",
   "nbconvert_exporter": "python",
   "pygments_lexer": "ipython3",
   "version": "3.6.12"
  }
 },
 "nbformat": 4,
 "nbformat_minor": 4
}
